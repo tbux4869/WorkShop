{
 "cells": [
  {
   "cell_type": "code",
   "execution_count": 2,
   "metadata": {
    "collapsed": true
   },
   "outputs": [],
   "source": [
    "import numpy as np\n",
    "import scipy\n",
    "import sklearn as skl\n",
    "import pandas as pd\n",
    "import os\n",
    "import matplotlib.pyplot as plt\n",
    "%matplotlib inline"
   ]
  },
  {
   "cell_type": "code",
   "execution_count": 3,
   "metadata": {
    "collapsed": false
   },
   "outputs": [],
   "source": [
    "os.getcwd()\n",
    "os.chdir('c:\\\\')"
   ]
  },
  {
   "cell_type": "code",
   "execution_count": 5,
   "metadata": {
    "collapsed": false,
    "scrolled": false
   },
   "outputs": [
    {
     "data": {
      "text/plain": [
       "[<matplotlib.lines.Line2D at 0x1b933db80f0>]"
      ]
     },
     "execution_count": 5,
     "metadata": {},
     "output_type": "execute_result"
    },
    {
     "data": {
      "image/png": "[encoded data removed]",
      "text/plain": [
       "<matplotlib.figure.Figure at 0x1b9338a84a8>"
      ]
     },
     "metadata": {},
     "output_type": "display_data"
    }
   ],
   "source": [
    "x = np.arange(20)\n",
    "y = x**2\n",
    "\n",
    "plt.plot(x, y)"
   ]
  },
  {
   "cell_type": "markdown",
   "metadata": {},
   "source": [
    "# Numpy 学习"
   ]
  },
  {
   "cell_type": "markdown",
   "metadata": {},
   "source": [
    "矩阵学习"
   ]
  },
  {
   "cell_type": "markdown",
   "metadata": {},
   "source": [
    "制作一个矩阵"
   ]
  },
  {
   "cell_type": "code",
   "execution_count": 6,
   "metadata": {
    "collapsed": false
   },
   "outputs": [
    {
     "name": "stdout",
     "output_type": "stream",
     "text": [
      "[[1, 2, 4], [2, 5, 4], [8, 9, 2]]\n"
     ]
    },
    {
     "data": {
      "text/plain": [
       "array([[ 0,  1,  2,  3,  4],\n",
       "       [ 5,  6,  7,  8,  9],\n",
       "       [10, 11, 12, 13, 14]])"
      ]
     },
     "execution_count": 6,
     "metadata": {},
     "output_type": "execute_result"
    }
   ],
   "source": [
    "a=[[1,2,4],[2,5,4],[8,9,2]]\n",
    "print(a)\n",
    "b=np.arange(15).reshape(3, 5)\n",
    "b"
   ]
  },
  {
   "cell_type": "markdown",
   "metadata": {},
   "source": [
    "返回矩阵的rank"
   ]
  },
  {
   "cell_type": "code",
   "execution_count": 7,
   "metadata": {
    "collapsed": false
   },
   "outputs": [
    {
     "data": {
      "text/plain": [
       "2"
      ]
     },
     "execution_count": 7,
     "metadata": {},
     "output_type": "execute_result"
    }
   ],
   "source": [
    "np.ndim(a)\n",
    "b.ndim"
   ]
  },
  {
   "cell_type": "markdown",
   "metadata": {},
   "source": [
    "返回矩阵的维度"
   ]
  },
  {
   "cell_type": "code",
   "execution_count": null,
   "metadata": {
    "collapsed": false
   },
   "outputs": [],
   "source": [
    "np.shape(a)\n",
    "b.shape"
   ]
  },
  {
   "cell_type": "markdown",
   "metadata": {},
   "source": [
    "返回矩阵中元素的个数"
   ]
  },
  {
   "cell_type": "code",
   "execution_count": null,
   "metadata": {
    "collapsed": false
   },
   "outputs": [],
   "source": [
    "print(np.size(a))\n",
    "b.size"
   ]
  },
  {
   "cell_type": "markdown",
   "metadata": {},
   "source": [
    "矩阵中元素的数据类型"
   ]
  },
  {
   "cell_type": "code",
   "execution_count": null,
   "metadata": {
    "collapsed": false
   },
   "outputs": [],
   "source": [
    "b.dtype.name"
   ]
  },
  {
   "cell_type": "markdown",
   "metadata": {},
   "source": [
    "矩阵中每个元素的bytes大小"
   ]
  },
  {
   "cell_type": "code",
   "execution_count": null,
   "metadata": {
    "collapsed": false
   },
   "outputs": [],
   "source": [
    "b.itemsize"
   ]
  },
  {
   "cell_type": "markdown",
   "metadata": {},
   "source": [
    "Array Learning"
   ]
  },
  {
   "cell_type": "markdown",
   "metadata": {},
   "source": [
    "Creating an array"
   ]
  },
  {
   "cell_type": "code",
   "execution_count": 4,
   "metadata": {
    "collapsed": false
   },
   "outputs": [
    {
     "name": "stdout",
     "output_type": "stream",
     "text": [
      "[1 2 3 4 5 6]\n",
      "[[ 2  2  3  4]\n",
      " [ 5  6  7  8]\n",
      " [ 9 10 11 12]]\n",
      "[[ 1.+0.j  2.+0.j  3.+0.j]\n",
      " [ 4.+0.j  5.+0.j  6.+0.j]]\n"
     ]
    }
   ],
   "source": [
    "a=np.array([1,2,3,4,5,6])\n",
    "print(a)\n",
    "b=np.array([[2,2,3,4],[5,6,7,8],[9,10,11,12]])\n",
    "print(b)\n",
    "c=np.array([[1,2,3],(4,5,6)],dtype=complex)\n",
    "print(c)"
   ]
  },
  {
   "cell_type": "markdown",
   "metadata": {},
   "source": [
    "0 , 1 ,以及随机内容的矩阵"
   ]
  },
  {
   "cell_type": "code",
   "execution_count": 3,
   "metadata": {
    "collapsed": false
   },
   "outputs": [
    {
     "name": "stdout",
     "output_type": "stream",
     "text": [
      "[[ 0.  0.  0.  0.]\n",
      " [ 0.  0.  0.  0.]\n",
      " [ 0.  0.  0.  0.]\n",
      " [ 0.  0.  0.  0.]]\n",
      "[[[ 1.  1.  1.]\n",
      "  [ 1.  1.  1.]\n",
      "  [ 1.  1.  1.]]\n",
      "\n",
      " [[ 1.  1.  1.]\n",
      "  [ 1.  1.  1.]\n",
      "  [ 1.  1.  1.]]]\n",
      "[[  1.17615969e-311   1.17617905e-311   1.17616146e-311]\n",
      " [  9.02081617e-315   9.02081617e-315   9.02081570e-315]\n",
      " [  9.02081570e-315   9.02081570e-315   1.17558570e-311]]\n"
     ]
    }
   ],
   "source": [
    "d=np.zeros([4,4])\n",
    "print(d)\n",
    "e=np.ones([2,3,3])\n",
    "print(e)\n",
    "f=np.empty([3,3])\n",
    "print(f)"
   ]
  },
  {
   "cell_type": "markdown",
   "metadata": {},
   "source": [
    "特殊矩阵"
   ]
  },
  {
   "cell_type": "code",
   "execution_count": 4,
   "metadata": {
    "collapsed": false
   },
   "outputs": [
    {
     "data": {
      "text/plain": [
       "array([[ 1.,  0.],\n",
       "       [ 0.,  1.]])"
      ]
     },
     "execution_count": 4,
     "metadata": {},
     "output_type": "execute_result"
    }
   ],
   "source": [
    "#单位矩阵\n",
    "z=np.eye(2)\n",
    "z"
   ]
  },
  {
   "cell_type": "markdown",
   "metadata": {},
   "source": [
    " np.empty: initial content is random and depends on the state of the memory!"
   ]
  },
  {
   "cell_type": "markdown",
   "metadata": {},
   "source": [
    "生成等差数列的array"
   ]
  },
  {
   "cell_type": "code",
   "execution_count": null,
   "metadata": {
    "collapsed": false
   },
   "outputs": [],
   "source": [
    "g=np.arange(1,101,3)\n",
    "print(g)\n",
    "h=np.arange(0,1,0.05)\n",
    "print(h)\n",
    "g1=np.arange(21)\n",
    "print(g1)"
   ]
  },
  {
   "cell_type": "code",
   "execution_count": 5,
   "metadata": {
    "collapsed": false
   },
   "outputs": [
    {
     "name": "stdout",
     "output_type": "stream",
     "text": [
      "[ 0.          0.10526316  0.21052632  0.31578947  0.42105263  0.52631579\n",
      "  0.63157895  0.73684211  0.84210526  0.94736842  1.05263158  1.15789474\n",
      "  1.26315789  1.36842105  1.47368421  1.57894737  1.68421053  1.78947368\n",
      "  1.89473684  2.        ]\n",
      "[  0.00000000e+00   1.00000000e+00   1.22464680e-16  -1.00000000e+00\n",
      "  -2.44929360e-16]\n"
     ]
    }
   ],
   "source": [
    "from numpy import pi\n",
    "i=np.linspace( 0, 2, 20 )                 # 20 numbers from 0 to 2\n",
    "print(i)\n",
    "x1=np.linspace(0,2*pi,5)\n",
    "f1=np.sin(x1)\n",
    "print(f1)"
   ]
  },
  {
   "cell_type": "markdown",
   "metadata": {},
   "source": [
    "Reshape的作用"
   ]
  },
  {
   "cell_type": "code",
   "execution_count": null,
   "metadata": {
    "collapsed": false
   },
   "outputs": [],
   "source": [
    "print(np.arange(30).reshape(5,6))"
   ]
  },
  {
   "cell_type": "markdown",
   "metadata": {},
   "source": [
    "某些过于庞大的array，python默认像以上输出，如果想只输出一个array，使用下面的命令："
   ]
  },
  {
   "cell_type": "code",
   "execution_count": null,
   "metadata": {
    "collapsed": true
   },
   "outputs": [],
   "source": [
    "#np.set_printoptions(threshold='nan')"
   ]
  },
  {
   "cell_type": "markdown",
   "metadata": {},
   "source": [
    "一些基本的array运算"
   ]
  },
  {
   "cell_type": "code",
   "execution_count": 4,
   "metadata": {
    "collapsed": false
   },
   "outputs": [
    {
     "name": "stdout",
     "output_type": "stream",
     "text": [
      "[20 25 30 45] [0 1 2 3]\n",
      "[20 24 28 42] [20 26 32 48] [0 1 4 9] [ True  True  True  True]\n",
      "120 45 20\n"
     ]
    }
   ],
   "source": [
    "a=np.array([20,25,30,45])\n",
    "b=np.arange(4)\n",
    "print(a,b)\n",
    "print(a-b,a+b,b**2,b<5)\n",
    "print(a.sum(),a.max(),a.min())"
   ]
  },
  {
   "cell_type": "markdown",
   "metadata": {},
   "source": [
    "也可以指定某些行与列进行运算"
   ]
  },
  {
   "cell_type": "code",
   "execution_count": 5,
   "metadata": {
    "collapsed": false
   },
   "outputs": [
    {
     "name": "stdout",
     "output_type": "stream",
     "text": [
      "[[1 2 3 4]\n",
      " [4 3 2 1]\n",
      " [2 3 4 5]\n",
      " [2 7 5 8]]\n",
      "[ 9 15 14 18]\n",
      "[10 10 14 22]\n",
      "[4 7 5 8] [4 4 5 8]\n",
      "[1 2 2 1] [1 1 2 2]\n",
      "[[ 1  3  6 10]\n",
      " [ 4  7  9 10]\n",
      " [ 2  5  9 14]\n",
      " [ 2  9 14 22]]\n"
     ]
    }
   ],
   "source": [
    "a=np.array([[1,2,3,4],[4,3,2,1],[2,3,4,5],[2,7,5,8]])\n",
    "print(a)\n",
    "print(a.sum(axis=0))#每列之和\n",
    "print(a.sum(axis=1))#每行之和\n",
    "print(a.max(axis=0),a.max(axis=1))#每列最大值，每行最大值\n",
    "print(a.min(axis=0),a.min(axis=1))#每列最小值，每行最小值\n",
    "print(a.cumsum(axis=1))#每行累计和，左边的数值往右边加过去"
   ]
  },
  {
   "cell_type": "markdown",
   "metadata": {},
   "source": [
    "对于多维array的运算"
   ]
  },
  {
   "cell_type": "code",
   "execution_count": 6,
   "metadata": {
    "collapsed": false
   },
   "outputs": [
    {
     "name": "stdout",
     "output_type": "stream",
     "text": [
      "[[1 0]\n",
      " [2 1]]\n",
      "[[1 2]\n",
      " [3 4]]\n",
      "[[2 2]\n",
      " [5 5]] [[ 0 -2]\n",
      " [-1 -3]]\n",
      "[[1 0]\n",
      " [6 4]]\n",
      "[[1 2]\n",
      " [5 8]] [[1 2]\n",
      " [5 8]]\n",
      "[[3 0]\n",
      " [6 3]]\n"
     ]
    }
   ],
   "source": [
    "a=np.array([[1,0],[2,1]])\n",
    "b=np.arange(1,5).reshape(2,2)\n",
    "print(a)\n",
    "print(b)\n",
    "print(a+b,a-b)\n",
    "print(a*b) #矩阵各个元素单纯相乘，不是矩阵乘法\n",
    "print(np.dot(a,b),a.dot(b))#矩阵乘法\n",
    "a*=3 # *=,+=的用法\n",
    "print(a)"
   ]
  },
  {
   "cell_type": "markdown",
   "metadata": {},
   "source": [
    "Universal Functions"
   ]
  },
  {
   "cell_type": "code",
   "execution_count": null,
   "metadata": {
    "collapsed": false
   },
   "outputs": [],
   "source": [
    "a=np.arange(1,5).reshape(2,2)\n",
    "np.transpose(a)\n",
    "np.var(a)\n",
    "np.mean(a)\n",
    "#all, any, apply_along_axis, argmax, argmin, \n",
    "#argsort, average, bincount, ceil, clip, conj, \n",
    "#corrcoef, cov, cross, cumprod, cumsum, diff, \n",
    "#dot, floor, inner, inv, lexsort, max, maximum, \n",
    "#mean, median, min, minimum, nonzero, outer, prod, \n",
    "#re, round, sort, std, sum, trace, transpose, var, \n",
    "#vdot, vectorize, where"
   ]
  },
  {
   "cell_type": "markdown",
   "metadata": {
    "collapsed": true
   },
   "source": [
    "Indexing, Slicing and Iterating"
   ]
  },
  {
   "cell_type": "code",
   "execution_count": 18,
   "metadata": {
    "collapsed": false
   },
   "outputs": [
    {
     "name": "stdout",
     "output_type": "stream",
     "text": [
      "[1 2 3 4 5 6 7 8 9] [1 3 5 7 9]\n",
      "[100   3 100   7 100]\n",
      "[ 10 100   8   7   6 100   4   3   2 100]\n",
      "10.0\n",
      "0.2\n",
      "0.3\n",
      "0.4\n",
      "10.0\n",
      "0.6\n",
      "0.7\n",
      "0.8\n",
      "10.0\n",
      "1.0\n"
     ]
    }
   ],
   "source": [
    "u=np.array([1,2,3,4,5,6,7,8,9,10])\n",
    "print(u[0:9],u[0:9:2])\n",
    "u1=u[0:9:2]\n",
    "u1[0:9:2]=100\n",
    "print(u1)\n",
    "print(u[::-1])#倒序排列array\n",
    "\n",
    "for i in u:\n",
    "    print(i*(1/10))"
   ]
  },
  {
   "cell_type": "code",
   "execution_count": 35,
   "metadata": {
    "collapsed": false
   },
   "outputs": [
    {
     "name": "stdout",
     "output_type": "stream",
     "text": [
      "[[ 0  1  2  3]\n",
      " [10 11 12 13]\n",
      " [20 21 22 23]\n",
      " [30 31 32 33]\n",
      " [40 41 42 43]]\n",
      "[ 0 10 20 30 40] [40 41 42 43] [[ 1  2]\n",
      " [11 12]\n",
      " [21 22]\n",
      " [31 32]\n",
      " [41 42]] [ 3 13 23 33 43] [40 41 42 43]\n"
     ]
    }
   ],
   "source": [
    "def f(x,y):\n",
    "    return 10*x+y\n",
    "b=np.fromfunction(f,(5,4),dtype=int)#方程f使用矩阵中每个值的坐标，坐标起点都是0，所以左上第一个值的坐标是（0，0）\n",
    "print(b)\n",
    "print(b[0:5,0],b[4,...],b[:,1:3],b[:,-1],b[-1,:])#输出某一行或某一列所有的值"
   ]
  },
  {
   "cell_type": "markdown",
   "metadata": {
    "collapsed": true
   },
   "source": [
    "x[1,2,...] is equivalent to x[1,2,:,:,:],\n",
    "\n",
    "x[...,3] to x[:,:,:,:,3] and\n",
    "\n",
    "x[4,...,5,:] to x[4,:,:,5,:]."
   ]
  },
  {
   "cell_type": "markdown",
   "metadata": {
    "collapsed": true
   },
   "source": [
    "遍历某一行或列"
   ]
  },
  {
   "cell_type": "code",
   "execution_count": 36,
   "metadata": {
    "collapsed": false
   },
   "outputs": [
    {
     "name": "stdout",
     "output_type": "stream",
     "text": [
      "[0 1 2 3]\n",
      "[10 11 12 13]\n",
      "[20 21 22 23]\n",
      "[30 31 32 33]\n",
      "[40 41 42 43]\n",
      "[0 1 2 3]\n",
      "[10 11 12 13]\n",
      "[20 21 22 23]\n",
      "[30 31 32 33]\n",
      "[40 41 42 43]\n"
     ]
    }
   ],
   "source": [
    "for row in b:\n",
    "    print(row)\n",
    "for colum in b:\n",
    "    print(colum)"
   ]
  },
  {
   "cell_type": "markdown",
   "metadata": {
    "collapsed": true
   },
   "source": [
    "遍历所有元素，使用扁平迭代器flat"
   ]
  },
  {
   "cell_type": "code",
   "execution_count": 38,
   "metadata": {
    "collapsed": false
   },
   "outputs": [
    {
     "name": "stdout",
     "output_type": "stream",
     "text": [
      "1\n",
      "4\n",
      "9\n",
      "16\n",
      "25\n",
      "36\n",
      "49\n",
      "64\n",
      "81\n"
     ]
    }
   ],
   "source": [
    "for element in b.flat:\n",
    "    print(element)"
   ]
  },
  {
   "cell_type": "markdown",
   "metadata": {
    "collapsed": true
   },
   "source": [
    "Enumerate 遍历 :\n",
    "Multidimensional index iterator.\n",
    "\n",
    "Return an iterator yielding pairs of array coordinates and values."
   ]
  },
  {
   "cell_type": "code",
   "execution_count": 39,
   "metadata": {
    "collapsed": false
   },
   "outputs": [
    {
     "name": "stdout",
     "output_type": "stream",
     "text": [
      "(0, 0) 0\n",
      "(0, 1) 1\n",
      "(0, 2) 2\n",
      "(0, 3) 3\n",
      "(1, 0) 10\n",
      "(1, 1) 11\n",
      "(1, 2) 12\n",
      "(1, 3) 13\n",
      "(2, 0) 20\n",
      "(2, 1) 21\n",
      "(2, 2) 22\n",
      "(2, 3) 23\n",
      "(3, 0) 30\n",
      "(3, 1) 31\n",
      "(3, 2) 32\n",
      "(3, 3) 33\n",
      "(4, 0) 40\n",
      "(4, 1) 41\n",
      "(4, 2) 42\n",
      "(4, 3) 43\n"
     ]
    }
   ],
   "source": [
    "for index,x in np.ndenumerate(b):\n",
    "    print(index,x)"
   ]
  },
  {
   "cell_type": "markdown",
   "metadata": {
    "collapsed": true
   },
   "source": [
    "Flatten函数"
   ]
  },
  {
   "cell_type": "code",
   "execution_count": 17,
   "metadata": {
    "collapsed": false
   },
   "outputs": [
    {
     "name": "stdout",
     "output_type": "stream",
     "text": [
      "[[0 1]\n",
      " [2 3]]\n",
      "(4,)\n",
      "(4,)\n"
     ]
    }
   ],
   "source": [
    "b=np.arange(4).reshape(2,2)\n",
    "print(b)\n",
    "b1=b.ravel()\n",
    "print(np.shape(b1))\n",
    "b2=b.flatten()\n",
    "print(np.shape(b2))"
   ]
  },
  {
   "cell_type": "markdown",
   "metadata": {
    "collapsed": true
   },
   "source": [
    "直接改变维度"
   ]
  },
  {
   "cell_type": "code",
   "execution_count": 22,
   "metadata": {
    "collapsed": false
   },
   "outputs": [
    {
     "name": "stdout",
     "output_type": "stream",
     "text": [
      "[[0 1]\n",
      " [2 3]]\n",
      "[[0 1 2 3]]\n"
     ]
    }
   ],
   "source": [
    "b=np.arange(4).reshape(2,2)\n",
    "print(b)\n",
    "b.shape=(1,4)\n",
    "print(b)"
   ]
  },
  {
   "cell_type": "markdown",
   "metadata": {
    "collapsed": true
   },
   "source": [
    "3数组的组合 hstack以及concatenate函数"
   ]
  },
  {
   "cell_type": "code",
   "execution_count": null,
   "metadata": {
    "collapsed": true
   },
   "outputs": [],
   "source": [
    "#行与列组合\n",
    "a=np.array([[1,2,3],[4,5,6],[7,8,9]])\n",
    "b=a**2\n",
    "print(np.hstack((a,b)))\n",
    "print(np.vstack((a,b)))\n",
    "print(np.concatenate((a,b),axis=1))#axis=0,1\n",
    "\n",
    "#深度组合\n",
    "print(np.dstack((a,b)))\n",
    "\n",
    "#列组合,行组合\n",
    "print(np.column_stack((a,b)))\n",
    "print(np.row_stack((a,b)))\n",
    "#对于二维数组，columnstack=hstack，row_stack=vstack"
   ]
  },
  {
   "cell_type": "markdown",
   "metadata": {
    "collapsed": true
   },
   "source": [
    "# 常用的函数"
   ]
  },
  {
   "cell_type": "markdown",
   "metadata": {
    "collapsed": true
   },
   "source": [
    "# 统计分析（简单）"
   ]
  },
  {
   "cell_type": "code",
   "execution_count": 8,
   "metadata": {
    "collapsed": false
   },
   "outputs": [
    {
     "ename": "ValueError",
     "evalue": "could not convert string to float: b'idstud'",
     "traceback": [
      "\u001b[0;31m---------------------------------------------------------------------------\u001b[0m",
      "\u001b[0;31mValueError\u001b[0m                                Traceback (most recent call last)",
      "\u001b[0;32m<ipython-input-8-4973b9df5272>\u001b[0m in \u001b[0;36m<module>\u001b[0;34m()\u001b[0m\n\u001b[0;32m----> 1\u001b[0;31m \u001b[0mdata\u001b[0m\u001b[1;33m=\u001b[0m\u001b[0mnp\u001b[0m\u001b[1;33m.\u001b[0m\u001b[0mloadtxt\u001b[0m\u001b[1;33m(\u001b[0m\u001b[1;34m\"C:\\\\jacob\\\\courses\\\\stat modeling with R\\\\Dataset.csv\"\u001b[0m\u001b[1;33m,\u001b[0m\u001b[0mdelimiter\u001b[0m\u001b[1;33m=\u001b[0m\u001b[1;34m','\u001b[0m\u001b[1;33m)\u001b[0m\u001b[1;33m\u001b[0m\u001b[0m\n\u001b[0m",
      "\u001b[0;32mc:\\miniconda2\\envs\\myenv\\lib\\site-packages\\numpy\\lib\\npyio.py\u001b[0m in \u001b[0;36mloadtxt\u001b[0;34m(fname, dtype, comments, delimiter, converters, skiprows, usecols, unpack, ndmin)\u001b[0m\n\u001b[1;32m    928\u001b[0m \u001b[1;33m\u001b[0m\u001b[0m\n\u001b[1;32m    929\u001b[0m             \u001b[1;31m# Convert each value according to its column and store\u001b[0m\u001b[1;33m\u001b[0m\u001b[1;33m\u001b[0m\u001b[0m\n\u001b[0;32m--> 930\u001b[0;31m             \u001b[0mitems\u001b[0m \u001b[1;33m=\u001b[0m \u001b[1;33m[\u001b[0m\u001b[0mconv\u001b[0m\u001b[1;33m(\u001b[0m\u001b[0mval\u001b[0m\u001b[1;33m)\u001b[0m \u001b[1;32mfor\u001b[0m \u001b[1;33m(\u001b[0m\u001b[0mconv\u001b[0m\u001b[1;33m,\u001b[0m \u001b[0mval\u001b[0m\u001b[1;33m)\u001b[0m \u001b[1;32min\u001b[0m \u001b[0mzip\u001b[0m\u001b[1;33m(\u001b[0m\u001b[0mconverters\u001b[0m\u001b[1;33m,\u001b[0m \u001b[0mvals\u001b[0m\u001b[1;33m)\u001b[0m\u001b[1;33m]\u001b[0m\u001b[1;33m\u001b[0m\u001b[0m\n\u001b[0m\u001b[1;32m    931\u001b[0m             \u001b[1;31m# Then pack it according to the dtype's nesting\u001b[0m\u001b[1;33m\u001b[0m\u001b[1;33m\u001b[0m\u001b[0m\n\u001b[1;32m    932\u001b[0m             \u001b[0mitems\u001b[0m \u001b[1;33m=\u001b[0m \u001b[0mpack_items\u001b[0m\u001b[1;33m(\u001b[0m\u001b[0mitems\u001b[0m\u001b[1;33m,\u001b[0m \u001b[0mpacking\u001b[0m\u001b[1;33m)\u001b[0m\u001b[1;33m\u001b[0m\u001b[0m\n",
      "\u001b[0;32mc:\\miniconda2\\envs\\myenv\\lib\\site-packages\\numpy\\lib\\npyio.py\u001b[0m in \u001b[0;36m<listcomp>\u001b[0;34m(.0)\u001b[0m\n\u001b[1;32m    928\u001b[0m \u001b[1;33m\u001b[0m\u001b[0m\n\u001b[1;32m    929\u001b[0m             \u001b[1;31m# Convert each value according to its column and store\u001b[0m\u001b[1;33m\u001b[0m\u001b[1;33m\u001b[0m\u001b[0m\n\u001b[0;32m--> 930\u001b[0;31m             \u001b[0mitems\u001b[0m \u001b[1;33m=\u001b[0m \u001b[1;33m[\u001b[0m\u001b[0mconv\u001b[0m\u001b[1;33m(\u001b[0m\u001b[0mval\u001b[0m\u001b[1;33m)\u001b[0m \u001b[1;32mfor\u001b[0m \u001b[1;33m(\u001b[0m\u001b[0mconv\u001b[0m\u001b[1;33m,\u001b[0m \u001b[0mval\u001b[0m\u001b[1;33m)\u001b[0m \u001b[1;32min\u001b[0m \u001b[0mzip\u001b[0m\u001b[1;33m(\u001b[0m\u001b[0mconverters\u001b[0m\u001b[1;33m,\u001b[0m \u001b[0mvals\u001b[0m\u001b[1;33m)\u001b[0m\u001b[1;33m]\u001b[0m\u001b[1;33m\u001b[0m\u001b[0m\n\u001b[0m\u001b[1;32m    931\u001b[0m             \u001b[1;31m# Then pack it according to the dtype's nesting\u001b[0m\u001b[1;33m\u001b[0m\u001b[1;33m\u001b[0m\u001b[0m\n\u001b[1;32m    932\u001b[0m             \u001b[0mitems\u001b[0m \u001b[1;33m=\u001b[0m \u001b[0mpack_items\u001b[0m\u001b[1;33m(\u001b[0m\u001b[0mitems\u001b[0m\u001b[1;33m,\u001b[0m \u001b[0mpacking\u001b[0m\u001b[1;33m)\u001b[0m\u001b[1;33m\u001b[0m\u001b[0m\n",
      "\u001b[0;32mc:\\miniconda2\\envs\\myenv\\lib\\site-packages\\numpy\\lib\\npyio.py\u001b[0m in \u001b[0;36mfloatconv\u001b[0;34m(x)\u001b[0m\n\u001b[1;32m    657\u001b[0m         \u001b[1;32mif\u001b[0m \u001b[1;34mb'0x'\u001b[0m \u001b[1;32min\u001b[0m \u001b[0mx\u001b[0m\u001b[1;33m:\u001b[0m\u001b[1;33m\u001b[0m\u001b[0m\n\u001b[1;32m    658\u001b[0m             \u001b[1;32mreturn\u001b[0m \u001b[0mfloat\u001b[0m\u001b[1;33m.\u001b[0m\u001b[0mfromhex\u001b[0m\u001b[1;33m(\u001b[0m\u001b[0masstr\u001b[0m\u001b[1;33m(\u001b[0m\u001b[0mx\u001b[0m\u001b[1;33m)\u001b[0m\u001b[1;33m)\u001b[0m\u001b[1;33m\u001b[0m\u001b[0m\n\u001b[0;32m--> 659\u001b[0;31m         \u001b[1;32mreturn\u001b[0m \u001b[0mfloat\u001b[0m\u001b[1;33m(\u001b[0m\u001b[0mx\u001b[0m\u001b[1;33m)\u001b[0m\u001b[1;33m\u001b[0m\u001b[0m\n\u001b[0m\u001b[1;32m    660\u001b[0m \u001b[1;33m\u001b[0m\u001b[0m\n\u001b[1;32m    661\u001b[0m     \u001b[0mtyp\u001b[0m \u001b[1;33m=\u001b[0m \u001b[0mdtype\u001b[0m\u001b[1;33m.\u001b[0m\u001b[0mtype\u001b[0m\u001b[1;33m\u001b[0m\u001b[0m\n",
      "\u001b[0;31mValueError\u001b[0m: could not convert string to float: b'idstud'"
     ],
     "output_type": "error"
    }
   ],
   "source": [
    "data=np.loadtxt(\"C:\\\\jacob\\\\courses\\\\stat modeling with R\\\\Dataset.csv\",delimiter=',')"
   ]
  },
  {
   "cell_type": "code",
   "execution_count": 12,
   "metadata": {
    "collapsed": false
   },
   "outputs": [
    {
     "name": "stdout",
     "output_type": "stream",
     "text": [
      "         idstud  idgrade  bsbgbiry bsbgsex bsbgbrn1                 bsbglang  \\\n",
      "0      11030701        7      81.0     boy       no                sometimes   \n",
      "1      11030702        7      80.0     boy      yes  always or almost always   \n",
      "2      11030703        7      81.0     boy      yes                sometimes   \n",
      "3      11030704        7      82.0     boy      yes                sometimes   \n",
      "4      11030705        7      81.0     boy      yes  always or almost always   \n",
      "5      11030706        7      81.0     boy      yes                      NaN   \n",
      "6      11030707        7      82.0     boy       no                sometimes   \n",
      "7      11030708        7      82.0     boy      yes  always or almost always   \n",
      "8      11030709        7      81.0     boy      yes  always or almost always   \n",
      "9      11030710        7      81.0     boy      yes  always or almost always   \n",
      "10     11030711        7      81.0     boy      yes  always or almost always   \n",
      "11     11030712        7      80.0     boy      yes  always or almost always   \n",
      "12     11030713        7      81.0     boy      yes  always or almost always   \n",
      "13     11030714        7      82.0     boy      yes                      NaN   \n",
      "14     11030715        7      81.0     boy      yes  always or almost always   \n",
      "15     11030716        7      81.0     boy      yes  always or almost always   \n",
      "16     11030718        7      82.0    girl      yes  always or almost always   \n",
      "17     11030719        7      81.0    girl       no                sometimes   \n",
      "18     11030720        7      82.0    girl      yes  always or almost always   \n",
      "19     11030721        7      81.0    girl      yes  always or almost always   \n",
      "20     11030722        7      81.0    girl      yes  always or almost always   \n",
      "21     11030723        7      81.0    girl      yes  always or almost always   \n",
      "22     11030724        7      82.0    girl      yes  always or almost always   \n",
      "23     11030725        7      82.0    girl      yes  always or almost always   \n",
      "24     11030726        7      81.0    girl      yes  always or almost always   \n",
      "25     11030801        8      80.0     boy      yes  always or almost always   \n",
      "26     11030802        8       NaN     NaN      NaN                      NaN   \n",
      "27     11030805        8      80.0     boy      yes  always or almost always   \n",
      "28     11030807        8      80.0     boy      yes                    never   \n",
      "29     11030808        8      81.0     boy      yes  always or almost always   \n",
      "...         ...      ...       ...     ...      ...                      ...   \n",
      "5733  303010703        7      82.0    girl      yes  always or almost always   \n",
      "5734  303010704        7      82.0     boy      yes  always or almost always   \n",
      "5735  303010705        7      80.0    girl      yes  always or almost always   \n",
      "5736  303010706        7      81.0    girl      yes  always or almost always   \n",
      "5737  303010707        7      81.0     boy      yes  always or almost always   \n",
      "5738  303010709        7      79.0     boy      yes                sometimes   \n",
      "5739  303010712        7      81.0     boy      yes                    never   \n",
      "5740  303010713        7      81.0    girl      yes                      NaN   \n",
      "5741  303010714        7      81.0     boy      yes                      NaN   \n",
      "5742  303010715        7      81.0     boy      yes  always or almost always   \n",
      "5743  303010716        7      81.0     boy      yes  always or almost always   \n",
      "5744  303010717        7      80.0     boy      yes                      NaN   \n",
      "5745  303010718        7      82.0    girl      yes  always or almost always   \n",
      "5746  303010719        7      80.0     boy      yes  always or almost always   \n",
      "5747  303010720        7      82.0     boy       no  always or almost always   \n",
      "5748  303010804        8      81.0    girl      yes  always or almost always   \n",
      "5749  303010805        8      80.0     boy      yes                      NaN   \n",
      "5750  303010806        8      80.0    girl      yes  always or almost always   \n",
      "5751  303010808        8      81.0     boy      yes  always or almost always   \n",
      "5752  303010812        8      81.0    girl      yes                sometimes   \n",
      "5753  303010814        8      81.0    girl      yes  always or almost always   \n",
      "5754  303010815        8      80.0     boy      yes                sometimes   \n",
      "5755  303010816        8      80.0     boy      yes  always or almost always   \n",
      "5756  303010817        8       NaN     NaN      NaN                      NaN   \n",
      "5757  303010818        8      80.0     boy      yes  always or almost always   \n",
      "5758  303010819        8      81.0    girl      yes  always or almost always   \n",
      "5759  303010822        8      81.0    girl      yes                      NaN   \n",
      "5760  303010823        8      81.0    girl      yes  always or almost always   \n",
      "5761  303010824        8      80.0     boy      yes  always or almost always   \n",
      "5762  303010825        8      80.0    girl      yes  always or almost always   \n",
      "\n",
      "               bsbgclub          bsbgpaid           bsbgday1  \\\n",
      "0     more than 5 hours           no time                NaN   \n",
      "1                   NaN         1-2 hours   less than 1 hour   \n",
      "2                   NaN               NaN                NaN   \n",
      "3               no time           no time          1-2 hours   \n",
      "4               no time           no time          1-2 hours   \n",
      "5               no time           no time          1-2 hours   \n",
      "6               no time           no time  more than 5 hours   \n",
      "7               no time  less than 1 hour          3-5 hours   \n",
      "8               no time           no time          1-2 hours   \n",
      "9               no time           no time   less than 1 hour   \n",
      "10                  NaN               NaN          1-2 hours   \n",
      "11              no time           no time          1-2 hours   \n",
      "12              no time           no time          1-2 hours   \n",
      "13              no time           no time            no time   \n",
      "14              no time  less than 1 hour          1-2 hours   \n",
      "15              no time           no time          1-2 hours   \n",
      "16              no time           no time          1-2 hours   \n",
      "17              no time           no time          1-2 hours   \n",
      "18              no time           no time          3-5 hours   \n",
      "19              no time           no time          1-2 hours   \n",
      "20              no time           no time          1-2 hours   \n",
      "21              no time           no time   less than 1 hour   \n",
      "22              no time           no time          1-2 hours   \n",
      "23              no time           no time          1-2 hours   \n",
      "24            3-5 hours           no time          1-2 hours   \n",
      "25              no time           no time          3-5 hours   \n",
      "26                  NaN               NaN                NaN   \n",
      "27              no time           no time          1-2 hours   \n",
      "28                  NaN               NaN  more than 5 hours   \n",
      "29              no time           no time            no time   \n",
      "...                 ...               ...                ...   \n",
      "5733            no time           no time          1-2 hours   \n",
      "5734            no time           no time          1-2 hours   \n",
      "5735            no time           no time          3-5 hours   \n",
      "5736            no time           no time          3-5 hours   \n",
      "5737            no time           no time          1-2 hours   \n",
      "5738            no time           no time   less than 1 hour   \n",
      "5739            no time           no time   less than 1 hour   \n",
      "5740            no time           no time  more than 5 hours   \n",
      "5741            no time  less than 1 hour          1-2 hours   \n",
      "5742                NaN               NaN   less than 1 hour   \n",
      "5743            no time         1-2 hours   less than 1 hour   \n",
      "5744            no time           no time          1-2 hours   \n",
      "5745            no time           no time            no time   \n",
      "5746            no time           no time          1-2 hours   \n",
      "5747            no time  less than 1 hour          1-2 hours   \n",
      "5748            no time           no time          1-2 hours   \n",
      "5749            no time           no time            no time   \n",
      "5750            no time         1-2 hours   less than 1 hour   \n",
      "5751            no time         1-2 hours          1-2 hours   \n",
      "5752            no time  less than 1 hour          1-2 hours   \n",
      "5753   less than 1 hour  less than 1 hour   less than 1 hour   \n",
      "5754            no time           no time          1-2 hours   \n",
      "5755            no time         1-2 hours          1-2 hours   \n",
      "5756            no time           no time          1-2 hours   \n",
      "5757            no time         1-2 hours          3-5 hours   \n",
      "5758            no time           no time          1-2 hours   \n",
      "5759            no time  less than 1 hour   less than 1 hour   \n",
      "5760            no time           no time            no time   \n",
      "5761            no time           no time          1-2 hours   \n",
      "5762            no time         1-2 hours          1-2 hours   \n",
      "\n",
      "               bsbgday2   ...               bsbgcrtn            bsbgcmdy  \\\n",
      "0             1-2 hours   ...        about every day     about every day   \n",
      "1             1-2 hours   ...        about every day   about once a week   \n",
      "2                   NaN   ...      about once a week              rarely   \n",
      "3             3-5 hours   ...        about every day     about every day   \n",
      "4      less than 1 hour   ...        about every day   about once a week   \n",
      "5      less than 1 hour   ...        about every day     about every day   \n",
      "6     more than 5 hours   ...        about every day     about every day   \n",
      "7      less than 1 hour   ...     about once a month   about once a week   \n",
      "8      less than 1 hour   ...        about every day     about every day   \n",
      "9               no time   ...      about once a week   about once a week   \n",
      "10              no time   ...     about once a month     about every day   \n",
      "11     less than 1 hour   ...        about every day   about once a week   \n",
      "12            1-2 hours   ...        about every day     about every day   \n",
      "13     less than 1 hour   ...        about every day   about once a week   \n",
      "14            3-5 hours   ...                    NaN     about every day   \n",
      "15              no time   ...     about once a month     about every day   \n",
      "16              no time   ...      about once a week     about every day   \n",
      "17              no time   ...     about once a month     about every day   \n",
      "18            1-2 hours   ...      about once a week     about every day   \n",
      "19              no time   ...                 rarely              rarely   \n",
      "20     less than 1 hour   ...        about every day     about every day   \n",
      "21     less than 1 hour   ...                 rarely     about every day   \n",
      "22     less than 1 hour   ...      about once a week                 NaN   \n",
      "23                  NaN   ...        about every day     about every day   \n",
      "24              no time   ...      about once a week                 NaN   \n",
      "25                  NaN   ...                 rarely     about every day   \n",
      "26                  NaN   ...                    NaN                 NaN   \n",
      "27            1-2 hours   ...                 rarely     about every day   \n",
      "28            1-2 hours   ...        about every day     about every day   \n",
      "29              no time   ...                 rarely              rarely   \n",
      "...                 ...   ...                    ...                 ...   \n",
      "5733            no time   ...                    NaN                 NaN   \n",
      "5734            no time   ...     about once a month     about every day   \n",
      "5735          1-2 hours   ...        about every day   about once a week   \n",
      "5736   less than 1 hour   ...        about every day   about once a week   \n",
      "5737          3-5 hours   ...      about once a week   about once a week   \n",
      "5738            no time   ...     about once a month     about every day   \n",
      "5739            no time   ...      about once a week   about once a week   \n",
      "5740            no time   ...        about every day   about once a week   \n",
      "5741          1-2 hours   ...        about every day     about every day   \n",
      "5742                NaN   ...        about every day     about every day   \n",
      "5743          1-2 hours   ...                 rarely              rarely   \n",
      "5744            no time   ...     about once a month   about once a week   \n",
      "5745            no time   ...                 rarely   about once a week   \n",
      "5746   less than 1 hour   ...        about every day     about every day   \n",
      "5747                NaN   ...     about once a month     about every day   \n",
      "5748   less than 1 hour   ...        about every day     about every day   \n",
      "5749          3-5 hours   ...      about once a week     about every day   \n",
      "5750            no time   ...      about once a week  about once a month   \n",
      "5751   less than 1 hour   ...        about every day   about once a week   \n",
      "5752   less than 1 hour   ...      about once a week     about every day   \n",
      "5753            no time   ...                 rarely   about once a week   \n",
      "5754   less than 1 hour   ...        about every day     about every day   \n",
      "5755   less than 1 hour   ...      about once a week   about once a week   \n",
      "5756            no time   ...                    NaN                 NaN   \n",
      "5757            no time   ...                 rarely     about every day   \n",
      "5758   less than 1 hour   ...        about every day     about every day   \n",
      "5759            no time   ...                 rarely  about once a month   \n",
      "5760            no time   ...                    NaN                 NaN   \n",
      "5761   less than 1 hour   ...                 rarely   about once a week   \n",
      "5762            no time   ...                 rarely   about once a week   \n",
      "\n",
      "     bsdage bsdmday7 bsdsday8 bsdgday9 bsmstdr  bssstdr bimatscr bisciscr  \n",
      "0      14.2      0.5      1.5      1.5   50.72    52.48   515.25   523.75  \n",
      "1      14.7      0.5      0.5      0.5   43.44    58.18   401.58   614.83  \n",
      "2      14.3      NaN      NaN      NaN   35.78    37.48   333.79   338.40  \n",
      "3      13.5      0.5      0.5      0.5   50.72    43.59   506.09   520.97  \n",
      "4      13.7      0.5      0.5      0.5   47.64    48.65   473.50   584.02  \n",
      "5      14.3      0.5      0.0      1.5   46.14    47.91   430.88   467.81  \n",
      "6      13.5      0.5      4.0      1.5   45.47    38.60   513.46   415.18  \n",
      "7      13.5      0.5      1.5      0.5   49.23    55.70   517.87   483.51  \n",
      "8      13.8      0.5      0.5      0.5   51.89    46.76   431.96   440.27  \n",
      "9      14.4      0.5      0.5      0.5   60.99    49.62   632.70   483.84  \n",
      "10     14.0      1.5      1.5      1.5   47.46    59.51   441.59   540.74  \n",
      "11     14.6      1.5      1.5      1.5   56.71    42.01   498.36   433.77  \n",
      "12     13.9      1.5      1.5      1.5   51.14    38.78   558.46   425.46  \n",
      "13     13.0      1.5      0.5      0.5   44.66    44.93   453.22   346.61  \n",
      "14     13.8      0.5      1.5      0.5   54.06    49.99   529.98   487.37  \n",
      "15     13.9      1.5      1.5      0.5   41.75    50.51   408.02   448.66  \n",
      "16     13.5      0.5      0.5      0.5   43.44    53.90   454.65   520.99  \n",
      "17     14.2      0.5      0.5      0.5   33.88    33.94   383.35   341.91  \n",
      "18     13.0      0.5      0.0      0.5   40.46    54.43   400.39   485.17  \n",
      "19     13.9      4.0      7.0      4.0   37.24    42.01   364.50   433.33  \n",
      "20     13.7      1.5      1.5      1.5   44.14    50.62   440.56   558.35  \n",
      "21     13.6      1.5      1.5      0.5   38.73    49.40   454.56   480.96  \n",
      "22     13.3      1.5      0.5      0.5   44.89    50.57   478.42   474.77  \n",
      "23     13.2      NaN      NaN      NaN   40.23    35.32   420.46   431.70  \n",
      "24     14.0      1.5      1.5      0.5   46.63    48.20   492.06   454.80  \n",
      "25     14.6      0.5      0.5      0.5   47.98    60.89   458.03   635.36  \n",
      "26      NaN      NaN      NaN      NaN   42.56    37.22   442.48   460.32  \n",
      "27     15.1      0.0      0.0      0.0   40.25    55.33   434.42   528.85  \n",
      "28     14.9      0.5      0.5      0.5   43.96    57.82   477.80   559.03  \n",
      "29     14.3      0.5      0.0      0.0   47.73    54.66   457.76   551.16  \n",
      "...     ...      ...      ...      ...     ...      ...      ...      ...  \n",
      "5733   13.2      0.5      0.0      0.5   58.98    53.25   601.81   602.30  \n",
      "5734   13.3      0.5      0.5      0.5   59.21    52.24   561.58   510.35  \n",
      "5735   14.7      1.5      NaN      1.5   44.89    48.66   483.31   499.51  \n",
      "5736   13.9      0.5      0.0      0.5   59.39    43.92   510.99   456.47  \n",
      "5737   14.1      0.5      0.5      0.5   62.65    57.82   548.40   571.31  \n",
      "5738   15.8      0.5      0.5      1.5   50.72    48.34   486.74   518.32  \n",
      "5739   13.6      1.5      0.5      0.5   63.94    67.27   603.57   705.63  \n",
      "5740   14.0      0.0      0.5      0.5   46.70    43.48   467.48   480.24  \n",
      "5741   13.6      0.0      0.0      0.5   57.96    53.97   508.69   551.20  \n",
      "5742   13.6      1.5      0.5      1.5   42.56    42.94   459.57   377.87  \n",
      "5743   14.1      0.0      0.0      0.0   56.20    63.88   580.15   611.30  \n",
      "5744   14.8      0.5      0.0      0.5   54.47    49.34   571.50   483.23  \n",
      "5745   13.2      0.5      0.5      0.5   62.71    57.83   631.58   607.10  \n",
      "5746   14.5      1.5      0.0      1.5   61.64    60.48   549.19   633.40  \n",
      "5747   13.2      0.5      0.0      0.0   62.46    59.82   611.86   546.11  \n",
      "5748   14.0      0.5      0.5      0.5   58.98    46.74   521.42   491.09  \n",
      "5749   15.0      0.0      0.5      0.5   59.71    59.41   579.04   612.76  \n",
      "5750   14.9      1.5      0.5      1.5   60.45    57.43   573.24   496.35  \n",
      "5751   14.3      0.5      0.5      0.5   57.71    58.19   549.59   629.90  \n",
      "5752   14.1      1.5      0.5      0.5   49.82    32.51   429.41   377.33  \n",
      "5753   14.1      1.5      0.5      1.5   68.48    54.43   656.93   475.54  \n",
      "5754   15.4      1.5      0.5      0.5   56.71    59.41   564.50   566.85  \n",
      "5755   14.8      1.5      1.5      1.5   53.47    60.48   517.32   612.76  \n",
      "5756    NaN      0.5      0.5      0.5   63.94    53.87   612.61   594.37  \n",
      "5757   15.0      0.5      0.5      1.5   63.89    63.02   592.15   680.03  \n",
      "5758   14.2      0.5      0.5      0.5   69.18    59.16   642.80   555.15  \n",
      "5759   14.0      0.5      0.5      0.5   63.54    50.57   588.70   510.29  \n",
      "5760   14.4      0.5      0.5      0.5   64.18    69.59   606.76   717.42  \n",
      "5761   15.4      0.5      1.5      0.5   55.64    54.43   554.71   477.13  \n",
      "5762   15.3      1.5      0.5      1.5   54.64    52.59   538.51   499.40  \n",
      "\n",
      "[5763 rows x 78 columns]\n"
     ]
    }
   ],
   "source": [
    "data=pd.read_csv('C:\\\\jacob\\\\courses\\\\stat modeling with R\\\\Dataset.csv')\n",
    "print(data)"
   ]
  },
  {
   "cell_type": "code",
   "execution_count": 18,
   "metadata": {
    "collapsed": false
   },
   "outputs": [
    {
     "name": "stdout",
     "output_type": "stream",
     "text": [
      "7.0\n"
     ]
    }
   ],
   "source": [
    "print ( np.median(data.idgrade))"
   ]
  },
  {
   "cell_type": "code",
   "execution_count": null,
   "metadata": {
    "collapsed": true
   },
   "outputs": [],
   "source": [
    "#np.msort 函数，从小大大排列"
   ]
  },
  {
   "cell_type": "code",
   "execution_count": null,
   "metadata": {
    "collapsed": true
   },
   "outputs": [],
   "source": [
    ""
   ]
  },
  {
   "cell_type": "code",
   "execution_count": 7,
   "metadata": {
    "collapsed": false
   },
   "outputs": [
    {
     "name": "stdout",
     "output_type": "stream",
     "text": [
      "                                                            \n",
      "                                                            \n",
      "                                                            \n",
      "                uLoveyouL           ouLoveyou               \n",
      "            eyouLoveyouLoveyo   veyouLoveyouLovey           \n",
      "          veyouLoveyouLoveyouLoveyouLoveyouLoveyouL         \n",
      "         veyouLoveyouLoveyouLoveyouLoveyouLoveyouLov        \n",
      "        veyouLoveyouLoveyouLoveyouLoveyouLoveyouLovey       \n",
      "        eyouLoveyouLoveyouLoveyouLoveyouLoveyouLoveyo       \n",
      "        youLoveyouLoveyouLoveyouLoveyouLoveyouLoveyou       \n",
      "        ouLoveyouLoveyouLoveyouLoveyouLoveyouLoveyouL       \n",
      "        uLoveyouLoveyouLoveyouLoveyouLoveyouLoveyouLo       \n",
      "        LoveyouLoveyouLoveyouLoveyouLoveyouLoveyouLov       \n",
      "         veyouLoveyouLoveyouLoveyouLoveyouLoveyouLov        \n",
      "          youLoveyouLoveyouLoveyouLoveyouLoveyouLov         \n",
      "          ouLoveyouLoveyouLoveyouLoveyouLoveyouLove         \n",
      "            oveyouLoveyouLoveyouLoveyouLoveyouLov           \n",
      "             eyouLoveyouLoveyouLoveyouLoveyouLov            \n",
      "              ouLoveyouLoveyouLoveyouLoveyouLov             \n",
      "                oveyouLoveyouLoveyouLoveyouLo               \n",
      "                  youLoveyouLoveyouLoveyouL                 \n",
      "                    LoveyouLoveyouLoveyou                   \n",
      "                       youLoveyouLovey                      \n",
      "                          oveyouLov                         \n",
      "                             ouL                            \n",
      "                              L                             \n",
      "                                                            \n",
      "                                                            \n",
      "                                                            \n",
      "                                                            \n"
     ]
    }
   ],
   "source": [
    "print('\\n'.join([''.join([('youLove'[(x-y)%7]if((x*0.05)**2+(y*0.1)**2-1)**3-(x*0.05)**2*(y*0.1)**3<=0 else' ')for x in range(-30,30)])for y in range(15,-15,-1)]))"
   ]
  },
  {
   "cell_type": "code",
   "execution_count": null,
   "metadata": {
    "collapsed": true
   },
   "outputs": [],
   "source": [
    ""
   ]
  },
  {
   "cell_type": "markdown",
   "metadata": {
    "collapsed": true
   },
   "source": [
    "点球小游戏"
   ]
  },
  {
   "cell_type": "code",
   "execution_count": 13,
   "metadata": {
    "collapsed": false
   },
   "outputs": [
    {
     "name": "stdout",
     "output_type": "stream",
     "text": [
      "==== Round 1 ====\n==== You Kick! ====\nChoose one side to shoot:\nleft, center, right\n"
     ]
    },
    {
     "ename": "StdinNotImplementedError",
     "evalue": "raw_input was called, but this frontend does not support input requests.",
     "traceback": [
      "\u001b[0;31m---------------------------------------------------------------------------\u001b[0m",
      "\u001b[0;31mStdinNotImplementedError\u001b[0m                  Traceback (most recent call last)",
      "\u001b[0;32m<ipython-input-13-dba569486011>\u001b[0m in \u001b[0;36m<module>\u001b[0;34m()\u001b[0m\n\u001b[1;32m     31\u001b[0m \u001b[1;32mfor\u001b[0m \u001b[0mi\u001b[0m \u001b[1;32min\u001b[0m \u001b[0mrange\u001b[0m\u001b[1;33m(\u001b[0m\u001b[1;36m1\u001b[0m\u001b[1;33m)\u001b[0m\u001b[1;33m:\u001b[0m\u001b[1;33m\u001b[0m\u001b[0m\n\u001b[1;32m     32\u001b[0m     \u001b[0mprint\u001b[0m\u001b[1;33m(\u001b[0m\u001b[1;34m'==== Round %d ===='\u001b[0m \u001b[1;33m%\u001b[0m \u001b[1;33m(\u001b[0m\u001b[0mi\u001b[0m\u001b[1;33m+\u001b[0m\u001b[1;36m1\u001b[0m\u001b[1;33m)\u001b[0m\u001b[1;33m)\u001b[0m\u001b[1;33m\u001b[0m\u001b[0m\n\u001b[0;32m---> 33\u001b[0;31m     \u001b[0mkick\u001b[0m\u001b[1;33m(\u001b[0m\u001b[1;33m)\u001b[0m\u001b[1;33m\u001b[0m\u001b[0m\n\u001b[0m\u001b[1;32m     34\u001b[0m \u001b[1;32mwhile\u001b[0m\u001b[1;33m(\u001b[0m\u001b[0mscore\u001b[0m\u001b[1;33m[\u001b[0m\u001b[1;36m0\u001b[0m\u001b[1;33m]\u001b[0m \u001b[1;33m==\u001b[0m \u001b[0mscore\u001b[0m\u001b[1;33m[\u001b[0m\u001b[1;36m1\u001b[0m\u001b[1;33m]\u001b[0m\u001b[1;33m)\u001b[0m\u001b[1;33m:\u001b[0m\u001b[1;33m\u001b[0m\u001b[0m\n\u001b[1;32m     35\u001b[0m     \u001b[0mi\u001b[0m \u001b[1;33m+=\u001b[0m \u001b[1;36m1\u001b[0m\u001b[1;33m\u001b[0m\u001b[0m\n",
      "\u001b[0;32m<ipython-input-13-dba569486011>\u001b[0m in \u001b[0;36mkick\u001b[0;34m()\u001b[0m\n\u001b[1;32m      6\u001b[0m     \u001b[0mprint\u001b[0m\u001b[1;33m(\u001b[0m\u001b[1;34m'Choose one side to shoot:'\u001b[0m\u001b[1;33m)\u001b[0m\u001b[1;33m\u001b[0m\u001b[0m\n\u001b[1;32m      7\u001b[0m     \u001b[0mprint\u001b[0m\u001b[1;33m(\u001b[0m \u001b[1;34m'left, center, right'\u001b[0m\u001b[1;33m)\u001b[0m\u001b[1;33m\u001b[0m\u001b[0m\n\u001b[0;32m----> 8\u001b[0;31m     \u001b[0myou\u001b[0m \u001b[1;33m=\u001b[0m \u001b[0minput\u001b[0m\u001b[1;33m(\u001b[0m\u001b[1;33m)\u001b[0m\u001b[1;33m\u001b[0m\u001b[0m\n\u001b[0m\u001b[1;32m      9\u001b[0m     \u001b[0mprint\u001b[0m\u001b[1;33m(\u001b[0m\u001b[1;34m'You kicked '\u001b[0m \u001b[1;33m+\u001b[0m \u001b[0myou\u001b[0m\u001b[1;33m)\u001b[0m\u001b[1;33m\u001b[0m\u001b[0m\n\u001b[1;32m     10\u001b[0m     \u001b[0mcom\u001b[0m \u001b[1;33m=\u001b[0m \u001b[0mchoice\u001b[0m\u001b[1;33m(\u001b[0m\u001b[0mdirection\u001b[0m\u001b[1;33m)\u001b[0m\u001b[1;33m\u001b[0m\u001b[0m\n",
      "\u001b[0;32mc:\\miniconda2\\envs\\myenv\\lib\\site-packages\\ipykernel\\kernelbase.py\u001b[0m in \u001b[0;36mraw_input\u001b[0;34m(self, prompt)\u001b[0m\n\u001b[1;32m    687\u001b[0m         \u001b[1;32mif\u001b[0m \u001b[1;32mnot\u001b[0m \u001b[0mself\u001b[0m\u001b[1;33m.\u001b[0m\u001b[0m_allow_stdin\u001b[0m\u001b[1;33m:\u001b[0m\u001b[1;33m\u001b[0m\u001b[0m\n\u001b[1;32m    688\u001b[0m             raise StdinNotImplementedError(\n\u001b[0;32m--> 689\u001b[0;31m                 \u001b[1;34m\"raw_input was called, but this frontend does not support input requests.\"\u001b[0m\u001b[1;33m\u001b[0m\u001b[0m\n\u001b[0m\u001b[1;32m    690\u001b[0m             )\n\u001b[1;32m    691\u001b[0m         return self._input_request(str(prompt),\n",
      "\u001b[0;31mStdinNotImplementedError\u001b[0m: raw_input was called, but this frontend does not support input requests."
     ],
     "output_type": "error"
    }
   ],
   "source": [
    "from random import choice\n",
    "score = [0, 0]\n",
    "direction = ['left', 'center', 'right']\n",
    "def kick():\n",
    "    print('==== You Kick! ====')\n",
    "    print('Choose one side to shoot:')\n",
    "    print( 'left, center, right')\n",
    "    you = input()\n",
    "    print('You kicked ' + you)\n",
    "    com = choice(direction)\n",
    "    print('Computer saved ' + com)\n",
    "    if you != com:\n",
    "        print('Goal!')\n",
    "        score[0] += 1\n",
    "    else:\n",
    "        print('Oops...')\n",
    "    print( 'Score: %d(you) - %d(com)\\n' % (score[0], score[1]))\n",
    "    print('==== You Save! ====')\n",
    "    print('Choose one side to save:')\n",
    "    print('left, center, right')\n",
    "    you = input()\n",
    "    print('You saved ' + you)\n",
    "    com = choice(direction)\n",
    "    print('Computer kicked ' + com)\n",
    "    if you == com:\n",
    "        print('Saved!')\n",
    "    else:\n",
    "        print('Oops...')\n",
    "    score[1] += 1\n",
    "    print('Score: %d(you) - %d(com)\\n' % (score[0], score[1]))\n",
    "for i in range(1):\n",
    "    print('==== Round %d ====' % (i+1))\n",
    "    kick()\n",
    "while(score[0] == score[1]):\n",
    "    i += 1\n",
    "    print('==== Round %d ====' % (i+1))\n",
    "    kick()\n",
    "if score[0] > score[1]:\n",
    "    print( 'You Win!')\n",
    "else:\n",
    "    print('You Lose.')"
   ]
  },
  {
   "cell_type": "code",
   "execution_count": null,
   "metadata": {
    "collapsed": true
   },
   "outputs": [],
   "source": [
    "input().lower()"
   ]
  },
  {
   "cell_type": "code",
   "execution_count": null,
   "metadata": {
    "collapsed": true
   },
   "outputs": [],
   "source": [
    ""
   ]
  },
  {
   "cell_type": "code",
   "execution_count": null,
   "metadata": {
    "collapsed": true
   },
   "outputs": [],
   "source": [
    ""
   ]
  },
  {
   "cell_type": "code",
   "execution_count": null,
   "metadata": {
    "collapsed": true
   },
   "outputs": [],
   "source": [
    ""
   ]
  },
  {
   "cell_type": "code",
   "execution_count": null,
   "metadata": {
    "collapsed": true
   },
   "outputs": [],
   "source": [
    ""
   ]
  },
  {
   "cell_type": "code",
   "execution_count": null,
   "metadata": {
    "collapsed": true
   },
   "outputs": [],
   "source": [
    ""
   ]
  },
  {
   "cell_type": "code",
   "execution_count": null,
   "metadata": {
    "collapsed": true
   },
   "outputs": [],
   "source": [
    ""
   ]
  },
  {
   "cell_type": "code",
   "execution_count": null,
   "metadata": {
    "collapsed": true
   },
   "outputs": [],
   "source": [
    ""
   ]
  },
  {
   "cell_type": "code",
   "execution_count": null,
   "metadata": {
    "collapsed": true
   },
   "outputs": [],
   "source": [
    ""
   ]
  },
  {
   "cell_type": "code",
   "execution_count": null,
   "metadata": {
    "collapsed": true
   },
   "outputs": [],
   "source": [
    ""
   ]
  },
  {
   "cell_type": "code",
   "execution_count": null,
   "metadata": {
    "collapsed": true
   },
   "outputs": [],
   "source": [
    ""
   ]
  },
  {
   "cell_type": "code",
   "execution_count": null,
   "metadata": {
    "collapsed": true
   },
   "outputs": [],
   "source": [
    ""
   ]
  },
  {
   "cell_type": "code",
   "execution_count": null,
   "metadata": {
    "collapsed": true
   },
   "outputs": [],
   "source": [
    ""
   ]
  },
  {
   "cell_type": "code",
   "execution_count": null,
   "metadata": {
    "collapsed": true
   },
   "outputs": [],
   "source": [
    ""
   ]
  },
  {
   "cell_type": "code",
   "execution_count": null,
   "metadata": {
    "collapsed": true
   },
   "outputs": [],
   "source": [
    ""
   ]
  },
  {
   "cell_type": "code",
   "execution_count": null,
   "metadata": {
    "collapsed": true
   },
   "outputs": [],
   "source": [
    ""
   ]
  },
  {
   "cell_type": "code",
   "execution_count": null,
   "metadata": {
    "collapsed": true
   },
   "outputs": [],
   "source": [
    ""
   ]
  },
  {
   "cell_type": "code",
   "execution_count": null,
   "metadata": {
    "collapsed": true
   },
   "outputs": [],
   "source": [
    ""
   ]
  },
  {
   "cell_type": "code",
   "execution_count": null,
   "metadata": {
    "collapsed": true
   },
   "outputs": [],
   "source": [
    ""
   ]
  },
  {
   "cell_type": "code",
   "execution_count": null,
   "metadata": {
    "collapsed": true
   },
   "outputs": [],
   "source": [
    ""
   ]
  }
 ],
 "metadata": {
  "kernelspec": {
   "display_name": "Python 3",
   "language": "python",
   "name": "python3"
  },
  "language_info": {
   "codemirror_mode": {
    "name": "ipython",
    "version": 3.0
   },
   "file_extension": ".py",
   "mimetype": "text/x-python",
   "name": "python",
   "nbconvert_exporter": "python",
   "pygments_lexer": "ipython3",
   "version": "3.5.2"
  }
 },
 "nbformat": 4,
 "nbformat_minor": 0
}